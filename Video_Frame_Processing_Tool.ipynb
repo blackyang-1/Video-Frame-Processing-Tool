{
 "cells": [
  {
   "cell_type": "markdown",
   "id": "c02d2f6d",
   "metadata": {},
   "source": [
    "## Video to Frames"
   ]
  },
  {
   "cell_type": "code",
   "execution_count": 1,
   "id": "f328a419",
   "metadata": {},
   "outputs": [
    {
     "name": "stdout",
     "output_type": "stream",
     "text": [
      "Video loaded: Example_video.mp4, FPS: 30.0, Total Frames: 240\n",
      "Output folder 'Example_frames' created.\n",
      "Video successfully split into 240 frames, saved in Example_frames folder.\n"
     ]
    }
   ],
   "source": [
    "import cv2\n",
    "import os\n",
    "\n",
    "def video_to_frames(video_path, out_path):\n",
    "    \n",
    "    video_capture = cv2.VideoCapture(video_path)\n",
    "    assert video_capture.isOpened(),f\"Error: fail to open {video_path}\"\n",
    "\n",
    "    fps = video_capture.get(cv2.CAP_PROP_FPS)\n",
    "    total_frames = int(video_capture.get(cv2.CAP_PROP_FRAME_COUNT))\n",
    "    print(f\"Video loaded: {video_path}, FPS: {fps}, Total Frames: {total_frames}\")\n",
    "\n",
    "    if not os.path.exists(out_path):\n",
    "        try: \n",
    "            os.makedirs(out_path)\n",
    "            print(f\"Output folder '{out_path}' created.\")\n",
    "        except OSError as e:\n",
    "            print(f\"Error '{out_path}':{e}\")\n",
    "            return\n",
    "    \n",
    "    frame_num = 0\n",
    "    while True:\n",
    "        ret, frame = video_capture.read()\n",
    "        if not ret:\n",
    "            break\n",
    "        frame_file_name = os.path.join(out_path, f\"{frame_num:05d}.jpg\")\n",
    "        try:\n",
    "            cv2.imwrite(frame_file_name, frame)\n",
    "            frame_num += 1\n",
    "        except Exception as e:\n",
    "            print(f\"Error saving frame {frame_num}: {e}\")\n",
    "            continue\n",
    "    \n",
    "    video_capture.release()\n",
    "    print(f\"Video successfully split into {frame_num} frames, saved in {out_path} folder.\")\n",
    "\n",
    "#Example:\n",
    "video_path = 'Example_video.mp4'\n",
    "output_folder = 'Example_frames'\n",
    "video_to_frames(video_path, output_folder)\n"
   ]
  },
  {
   "cell_type": "markdown",
   "id": "c52d510b",
   "metadata": {},
   "source": [
    "## Frames to Video"
   ]
  },
  {
   "cell_type": "code",
   "execution_count": null,
   "id": "a891ee10",
   "metadata": {},
   "outputs": [
    {
     "name": "stdout",
     "output_type": "stream",
     "text": [
      "Resolution: 1556x720, FPS: 30\n",
      "Video successfully created with 480 frames, saved at Example_synthesize_video.mp4\n"
     ]
    }
   ],
   "source": [
    "import cv2\n",
    "import os\n",
    "\n",
    "def frames_to_video(frames_folder, out_path, fps=30, resolution=None):\n",
    "    frame_files = [f for f in os.listdir(frames_folder) if f.endswith('.jpg')]\n",
    "    assert len(frame_files) > 0, f\"Error: Fail to found frames in {frames_folder}\"\n",
    "\n",
    "    frame_files.sort()\n",
    "    first_frame = cv2.imread(os.path.join(frames_folder, frame_files[0]))\n",
    "    height, width, _ = first_frame.shape\n",
    "    print(f\"Resolution: {width}x{height}, FPS: {fps}\")\n",
    "\n",
    "    fourcc = cv2.VideoWriter_fourcc(*'mp4v')\n",
    "    video_writer = cv2.VideoWriter(out_path, fourcc, fps, (width, height))\n",
    "\n",
    "    frame_num = 0\n",
    "    for frame_file in frame_files:\n",
    "        frame_path = os.path.join(frames_folder, frame_file)\n",
    "        try:\n",
    "            frame = cv2.imread(frame_path)\n",
    "            if resolution is not None:\n",
    "                frame = cv2.resize(frame, (width, height))\n",
    "            video_writer.write(frame)\n",
    "            frame_num += 1\n",
    "            video_writer.write(frame)\n",
    "            frame_num += 1\n",
    "        except Exception as e:\n",
    "            print(f\"Error reading frame {frame_file}: {e}\")\n",
    "            continue\n",
    "\n",
    "    video_writer.release()\n",
    "    print(f\"Video successfully created with {frame_num} frames, saved at {out_path}\")\n",
    "\n",
    "#Example:\n",
    "frames_folder = 'Example_frames'\n",
    "out_path = 'Example_synthesize_video.mp4'\n",
    "frames_to_video(frames_folder, out_path, fps=30, resolution=[512,512])\n"
   ]
  }
 ],
 "metadata": {
  "kernelspec": {
   "display_name": "sam2",
   "language": "python",
   "name": "python3"
  },
  "language_info": {
   "codemirror_mode": {
    "name": "ipython",
    "version": 3
   },
   "file_extension": ".py",
   "mimetype": "text/x-python",
   "name": "python",
   "nbconvert_exporter": "python",
   "pygments_lexer": "ipython3",
   "version": "3.10.18"
  }
 },
 "nbformat": 4,
 "nbformat_minor": 5
}
